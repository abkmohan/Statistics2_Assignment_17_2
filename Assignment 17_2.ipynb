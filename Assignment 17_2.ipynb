{
 "cells": [
  {
   "cell_type": "code",
   "execution_count": 9,
   "metadata": {},
   "outputs": [
    {
     "name": "stdout",
     "output_type": "stream",
     "text": [
      "The probability of getting a \"D\" exactly 5 times is = 0.0295312043\n"
     ]
    }
   ],
   "source": [
    "#Course: Data Science Masters\n",
    "#Title: Assignment 17.2           \n",
    "#Tool: Jupyter notebook \n",
    "#Author: Krishna A\n",
    "#Date: 20-05-2018 (DD/MM/YYYY)\n",
    "\n",
    "#Problem Statement \n",
    "# A die marked A to E is rolled 50 times. Find the probability of getting a “D” exactly 5 times\n",
    "\n",
    "#probability distribution for binomial experiment. \n",
    "#p(x) = n! / (x! * (n−x)!) * p^x * (1−p)^(n−x) \n",
    "\n",
    "import math as m\n",
    "\n",
    "iTotalTrials = 50 \n",
    "iAttemptsToGetD = 5  \n",
    "pToGetD = 1/5\n",
    "pToNotGetD = 4/5 \n",
    "\n",
    "pX = format((m.factorial(iTotalTrials) / (m.factorial(iAttemptsToGetD) * m.factorial(iTotalTrials-iAttemptsToGetD))) * pow(pToGetD, iAttemptsToGetD) * pow(pToNotGetD, iTotalTrials-iAttemptsToGetD), '.10f')\n",
    "\n",
    "print('The probability of getting a \"D\" exactly 5 times is =', pX)\n"
   ]
  },
  {
   "cell_type": "code",
   "execution_count": null,
   "metadata": {
    "collapsed": true
   },
   "outputs": [],
   "source": []
  }
 ],
 "metadata": {
  "kernelspec": {
   "display_name": "Python 3",
   "language": "python",
   "name": "python3"
  },
  "language_info": {
   "codemirror_mode": {
    "name": "ipython",
    "version": 3
   },
   "file_extension": ".py",
   "mimetype": "text/x-python",
   "name": "python",
   "nbconvert_exporter": "python",
   "pygments_lexer": "ipython3",
   "version": "3.6.3"
  }
 },
 "nbformat": 4,
 "nbformat_minor": 2
}
